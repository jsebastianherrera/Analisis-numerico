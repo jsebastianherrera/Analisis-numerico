{
    "cells": [
        {
            "cell_type": "markdown",
            "source": [
                "Sqrt algorithm using Babilonia methodology"
            ],
            "metadata": {}
        },
        {
            "cell_type": "code",
            "execution_count": 113,
            "source": [
                "n = 7\n",
                "e = 1\n",
                "x = 7\n",
                "\n",
                "def calculate(x, n):\n",
                "    try:\n",
                "        return (1/2)*(x+(n/x))\n",
                "    except:\n",
                "        print(\"Error: Float division by zero\")\n",
                "        exit(0)\n",
                "\n",
                "\n",
                "y = calculate(x, n)\n",
                "while abs(x-y) > float(e):\n",
                "    print(\"Y:\", y)\n",
                "    x = y\n",
                "    y = calculate(x, n)\n"
            ],
            "outputs": [
                {
                    "output_type": "stream",
                    "name": "stdout",
                    "text": [
                        "Y: 4.0\n",
                        "Y: 2.875\n"
                    ]
                }
            ],
            "metadata": {}
        },
        {
            "cell_type": "markdown",
            "source": [
                "Sensibility  and stability"
            ],
            "metadata": {}
        },
        {
            "cell_type": "code",
            "execution_count": 117,
            "source": [
                "import random \n",
                "import numpy as np\n",
                "row=1500\n",
                "col=450\n",
                "def print_matrix(matrix):\n",
                "    for i in range(row):\n",
                "      print(\"\")\n",
                "      for j in range(col):\n",
                "        print(matrix[i][j], end='\\t')\n",
                "def fill_matrix():\n",
                "    matrix= []\n",
                "    stats=[0]*60 + [0.5]*30 +[1]*10\n",
                "    for i in range(row):\n",
                "        c=[]\n",
                "        for j in range(col):\n",
                "            c.append(random.choice(stats))\n",
                "        matrix.append(c)\n",
                "    return matrix\n",
                "matrix=np.array(fill_matrix())\n",
                "#print_matrix(matrix)\n",
                "#print(\"\\n\\n\")  \n",
                "result=np.sum(matrix,axis=1)\n",
                "inv=np.linalg.pinv(matrix)\n",
                "# print(inv)\n",
                "for i in range(len(result[0:10])):\n",
                "    print(f\"#{i}:{result[i]}\")"
            ],
            "outputs": [
                {
                    "output_type": "stream",
                    "name": "stdout",
                    "text": [
                        "#0:118.0\n",
                        "#1:118.0\n",
                        "#2:105.0\n",
                        "#3:114.5\n",
                        "#4:96.0\n",
                        "#5:110.0\n",
                        "#6:109.5\n",
                        "#7:117.0\n",
                        "#8:101.5\n",
                        "#9:126.5\n",
                        "#10:116.5\n",
                        "#11:109.0\n",
                        "#12:107.5\n",
                        "#13:119.5\n",
                        "#14:116.0\n",
                        "#15:102.5\n",
                        "#16:110.5\n",
                        "#17:100.5\n",
                        "#18:100.5\n",
                        "#19:109.5\n"
                    ]
                }
            ],
            "metadata": {}
        }
    ],
    "metadata": {
        "orig_nbformat": 4,
        "language_info": {
            "name": "python",
            "version": "3.8.10",
            "mimetype": "text/x-python",
            "codemirror_mode": {
                "name": "ipython",
                "version": 3
            },
            "pygments_lexer": "ipython3",
            "nbconvert_exporter": "python",
            "file_extension": ".py"
        },
        "kernelspec": {
            "name": "python3",
            "display_name": "Python 3.8.10 64-bit"
        },
        "interpreter": {
            "hash": "31f2aee4e71d21fbe5cf8b01ff0e069b9275f58929596ceb00d14d90e3e16cd6"
        }
    },
    "nbformat": 4,
    "nbformat_minor": 2
}