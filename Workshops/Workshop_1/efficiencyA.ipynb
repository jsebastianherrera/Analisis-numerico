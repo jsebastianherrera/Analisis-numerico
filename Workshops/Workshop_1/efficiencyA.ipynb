{
    "cells": [
        {
            "cell_type": "markdown",
            "source": [
                "Calculated efficiency operations of an algorithm"
            ],
            "metadata": {}
        },
        {
            "cell_type": "code",
            "execution_count": 1,
            "source": [
                "import numpy as np\n",
                "import sympy as sym\n",
                "from sympy.polys.polytools import factor\n",
                "x = sym.symbols('x')\n",
                "expre = \"x**3-2*x**2+4*x/3-8/27\"\n",
                "cont = 0\n",
                "try:\n",
                "    expre = factor(expre)\n",
                "    cont += 1\n",
                "    #print(sym.sympify(expre).subs(x, 4))\n",
                "    print(expre)\n",
                "except:\n",
                "    print(\"sad\")\n"
            ],
            "outputs": [
                {
                    "output_type": "stream",
                    "name": "stdout",
                    "text": [
                        "(3*x - 2)**3/27\n"
                    ]
                }
            ],
            "metadata": {}
        }
    ],
    "metadata": {
        "orig_nbformat": 4,
        "language_info": {
            "name": "python",
            "version": "3.8.10",
            "mimetype": "text/x-python",
            "codemirror_mode": {
                "name": "ipython",
                "version": 3
            },
            "pygments_lexer": "ipython3",
            "nbconvert_exporter": "python",
            "file_extension": ".py"
        },
        "kernelspec": {
            "name": "python3",
            "display_name": "Python 3.8.10 64-bit"
        },
        "interpreter": {
            "hash": "916dbcbb3f70747c44a77c7bcd40155683ae19c65e1c03b4aa3499c5328201f1"
        }
    },
    "nbformat": 4,
    "nbformat_minor": 2
}