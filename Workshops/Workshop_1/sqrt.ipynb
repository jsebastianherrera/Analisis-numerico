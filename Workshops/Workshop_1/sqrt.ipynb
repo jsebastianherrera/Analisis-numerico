{
    "cells": [
        {
            "cell_type": "markdown",
            "source": [
                "PPP"
            ],
            "metadata": {}
        },
        {
            "cell_type": "code",
            "execution_count": null,
            "source": [
                "import os\n",
                "import sys\n",
                "# Create an sqrt function\n",
                "os.system(\"clear\")\n",
                "i = int(len(sys.argv))\n",
                "if (i-1 == 3 and float(sys.argv[1]) >= 0):\n",
                "    n = float(sys.argv[1])\n",
                "    e = sys.argv[2]\n",
                "    x = float(sys.argv[3])\n",
                "else:\n",
                "    print(\"Check parameters\")\n",
                "    exit(0)\n",
                "\n",
                "\n",
                "def calculate(x, n):\n",
                "    try:\n",
                "        return (1/2)*(x+(n/x))\n",
                "    except:\n",
                "        print(\"Error: Float division by zero\")\n",
                "        exit(0)\n",
                "\n",
                "\n",
                "y = calculate(x, n)\n",
                "while abs(x-y) > float(e):\n",
                "    print(\"Y:\", y)\n",
                "    x = y\n",
                "    y = calculate(x, n)\n"
            ],
            "outputs": [],
            "metadata": {}
        }
    ],
    "metadata": {
        "orig_nbformat": 4,
        "language_info": {
            "name": "python"
        }
    },
    "nbformat": 4,
    "nbformat_minor": 2
}